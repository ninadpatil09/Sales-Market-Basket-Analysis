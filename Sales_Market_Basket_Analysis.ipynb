{
  "nbformat": 4,
  "nbformat_minor": 0,
  "metadata": {
    "colab": {
      "provenance": []
    },
    "kernelspec": {
      "name": "python3",
      "display_name": "Python 3"
    },
    "language_info": {
      "name": "python"
    }
  },
  "cells": [
    {
      "cell_type": "markdown",
      "source": [
        "#### Import Libraries"
      ],
      "metadata": {
        "id": "EKu5VtrHtjcx"
      }
    },
    {
      "cell_type": "code",
      "source": [
        "import pyspark\n",
        "import pandas as pd\n",
        "import numpy as np\n",
        "import matplotlib.pyplot as plt\n",
        "from os import sep\n",
        "from time import time\n",
        "from pyspark.sql.functions import *\n",
        "from pyspark.sql.types import *\n",
        "from pyspark.sql import functions as F, SparkSession, Column,types\n",
        "from pyspark.sql.functions import col,isnan,when,count, split, to_timestamp\n",
        "from pyspark.sql import SparkSession, SQLContext\n",
        "from pyspark.ml.fpm import FPGrowth,FPGrowthModel\n",
        "from pyspark.ml.feature import OneHotEncoder, StringIndexer, CountVectorizer\n",
        "from pyspark.sql.types import IntegerType\n",
        "from pyspark.sql.functions import lit\n",
        "%matplotlib inline"
      ],
      "metadata": {
        "id": "gH0FTQSGTNqk"
      },
      "execution_count": 2,
      "outputs": []
    },
    {
      "cell_type": "markdown",
      "source": [
        "#### Create Spark Session"
      ],
      "metadata": {
        "id": "f8WZ_zL7tp3y"
      }
    },
    {
      "cell_type": "code",
      "source": [
        "spark = SparkSession.builder.appName('SalesMarketBasketAnalysis').getOrCreate()\n",
        "sqlCtx = SQLContext(spark)\n",
        "spark"
      ],
      "metadata": {
        "colab": {
          "base_uri": "https://localhost:8080/",
          "height": 254
        },
        "id": "-MjWIMTpWDUq",
        "outputId": "b5c1d056-7600-40ea-900f-ba8162aae917"
      },
      "execution_count": 3,
      "outputs": [
        {
          "output_type": "stream",
          "name": "stderr",
          "text": [
            "/usr/local/lib/python3.10/dist-packages/pyspark/sql/context.py:113: FutureWarning: Deprecated in 3.0.0. Use SparkSession.builder.getOrCreate() instead.\n",
            "  warnings.warn(\n"
          ]
        },
        {
          "output_type": "execute_result",
          "data": {
            "text/plain": [
              "<pyspark.sql.session.SparkSession at 0x7c9939745630>"
            ],
            "text/html": [
              "\n",
              "            <div>\n",
              "                <p><b>SparkSession - in-memory</b></p>\n",
              "                \n",
              "        <div>\n",
              "            <p><b>SparkContext</b></p>\n",
              "\n",
              "            <p><a href=\"http://52b1a549dc38:4040\">Spark UI</a></p>\n",
              "\n",
              "            <dl>\n",
              "              <dt>Version</dt>\n",
              "                <dd><code>v3.5.1</code></dd>\n",
              "              <dt>Master</dt>\n",
              "                <dd><code>local[*]</code></dd>\n",
              "              <dt>AppName</dt>\n",
              "                <dd><code>SalesMarketBasketAnalysis</code></dd>\n",
              "            </dl>\n",
              "        </div>\n",
              "        \n",
              "            </div>\n",
              "        "
            ]
          },
          "metadata": {},
          "execution_count": 3
        }
      ]
    },
    {
      "cell_type": "markdown",
      "source": [
        "#### Load the dataset"
      ],
      "metadata": {
        "id": "C0-C_JZ5ttJ4"
      }
    },
    {
      "cell_type": "code",
      "source": [
        "df = spark.read.csv('Sales_Data.csv',header=True,sep=\";\",inferSchema=True)"
      ],
      "metadata": {
        "id": "k8toSS99WSB0"
      },
      "execution_count": 4,
      "outputs": []
    },
    {
      "cell_type": "code",
      "source": [
        "df.show(5)"
      ],
      "metadata": {
        "colab": {
          "base_uri": "https://localhost:8080/"
        },
        "id": "8YICQqvBEJM6",
        "outputId": "478f3c33-8451-4cd7-b1fc-2dbbdaa6b9c3"
      },
      "execution_count": 5,
      "outputs": [
        {
          "output_type": "stream",
          "name": "stdout",
          "text": [
            "+------+--------------------+--------+----------------+-----+----------+--------------+\n",
            "|BillNo|            Itemname|Quantity|            Date|Price|CustomerID|       Country|\n",
            "+------+--------------------+--------+----------------+-----+----------+--------------+\n",
            "|536365|WHITE HANGING HEA...|       6|01.12.2010 08:26| 2,55|     17850|United Kingdom|\n",
            "|536365| WHITE METAL LANTERN|       6|01.12.2010 08:26| 3,39|     17850|United Kingdom|\n",
            "|536365|CREAM CUPID HEART...|       8|01.12.2010 08:26| 2,75|     17850|United Kingdom|\n",
            "|536365|KNITTED UNION FLA...|       6|01.12.2010 08:26| 3,39|     17850|United Kingdom|\n",
            "|536365|RED WOOLLY HOTTIE...|       6|01.12.2010 08:26| 3,39|     17850|United Kingdom|\n",
            "+------+--------------------+--------+----------------+-----+----------+--------------+\n",
            "only showing top 5 rows\n",
            "\n"
          ]
        }
      ]
    },
    {
      "cell_type": "markdown",
      "source": [
        "## Dataset exploration & Preprocessing"
      ],
      "metadata": {
        "id": "75zb0Cy1txYa"
      }
    },
    {
      "cell_type": "code",
      "source": [
        "type(df)"
      ],
      "metadata": {
        "colab": {
          "base_uri": "https://localhost:8080/",
          "height": 187
        },
        "id": "N2IXAtEqea7Y",
        "outputId": "d93cb8cd-7378-42bf-d872-a119964ebbef"
      },
      "execution_count": 6,
      "outputs": [
        {
          "output_type": "execute_result",
          "data": {
            "text/plain": [
              "pyspark.sql.dataframe.DataFrame"
            ],
            "text/html": [
              "<div style=\"max-width:800px; border: 1px solid var(--colab-border-color);\"><style>\n",
              "      pre.function-repr-contents {\n",
              "        overflow-x: auto;\n",
              "        padding: 8px 12px;\n",
              "        max-height: 500px;\n",
              "      }\n",
              "\n",
              "      pre.function-repr-contents.function-repr-contents-collapsed {\n",
              "        cursor: pointer;\n",
              "        max-height: 100px;\n",
              "      }\n",
              "    </style>\n",
              "    <pre style=\"white-space: initial; background:\n",
              "         var(--colab-secondary-surface-color); padding: 8px 12px;\n",
              "         border-bottom: 1px solid var(--colab-border-color);\"><b>pyspark.sql.dataframe.DataFrame</b><br/>def __init__(jdf: JavaObject, sql_ctx: Union[&#x27;SQLContext&#x27;, &#x27;SparkSession&#x27;])</pre><pre class=\"function-repr-contents function-repr-contents-collapsed\" style=\"\"><a class=\"filepath\" style=\"display:none\" href=\"#\">/usr/local/lib/python3.10/dist-packages/pyspark/sql/dataframe.py</a>A distributed collection of data grouped into named columns.\n",
              "\n",
              ".. versionadded:: 1.3.0\n",
              "\n",
              ".. versionchanged:: 3.4.0\n",
              "    Supports Spark Connect.\n",
              "\n",
              "Examples\n",
              "--------\n",
              "A :class:`DataFrame` is equivalent to a relational table in Spark SQL,\n",
              "and can be created using various functions in :class:`SparkSession`:\n",
              "\n",
              "&gt;&gt;&gt; people = spark.createDataFrame([\n",
              "...     {&quot;deptId&quot;: 1, &quot;age&quot;: 40, &quot;name&quot;: &quot;Hyukjin Kwon&quot;, &quot;gender&quot;: &quot;M&quot;, &quot;salary&quot;: 50},\n",
              "...     {&quot;deptId&quot;: 1, &quot;age&quot;: 50, &quot;name&quot;: &quot;Takuya Ueshin&quot;, &quot;gender&quot;: &quot;M&quot;, &quot;salary&quot;: 100},\n",
              "...     {&quot;deptId&quot;: 2, &quot;age&quot;: 60, &quot;name&quot;: &quot;Xinrong Meng&quot;, &quot;gender&quot;: &quot;F&quot;, &quot;salary&quot;: 150},\n",
              "...     {&quot;deptId&quot;: 3, &quot;age&quot;: 20, &quot;name&quot;: &quot;Haejoon Lee&quot;, &quot;gender&quot;: &quot;M&quot;, &quot;salary&quot;: 200}\n",
              "... ])\n",
              "\n",
              "Once created, it can be manipulated using the various domain-specific-language\n",
              "(DSL) functions defined in: :class:`DataFrame`, :class:`Column`.\n",
              "\n",
              "To select a column from the :class:`DataFrame`, use the apply method:\n",
              "\n",
              "&gt;&gt;&gt; age_col = people.age\n",
              "\n",
              "A more concrete example:\n",
              "\n",
              "&gt;&gt;&gt; # To create DataFrame using SparkSession\n",
              "... department = spark.createDataFrame([\n",
              "...     {&quot;id&quot;: 1, &quot;name&quot;: &quot;PySpark&quot;},\n",
              "...     {&quot;id&quot;: 2, &quot;name&quot;: &quot;ML&quot;},\n",
              "...     {&quot;id&quot;: 3, &quot;name&quot;: &quot;Spark SQL&quot;}\n",
              "... ])\n",
              "\n",
              "&gt;&gt;&gt; people.filter(people.age &gt; 30).join(\n",
              "...     department, people.deptId == department.id).groupBy(\n",
              "...     department.name, &quot;gender&quot;).agg({&quot;salary&quot;: &quot;avg&quot;, &quot;age&quot;: &quot;max&quot;}).show()\n",
              "+-------+------+-----------+--------+\n",
              "|   name|gender|avg(salary)|max(age)|\n",
              "+-------+------+-----------+--------+\n",
              "|     ML|     F|      150.0|      60|\n",
              "|PySpark|     M|       75.0|      50|\n",
              "+-------+------+-----------+--------+\n",
              "\n",
              "Notes\n",
              "-----\n",
              "A DataFrame should only be created as described above. It should not be directly\n",
              "created via using the constructor.</pre>\n",
              "      <script>\n",
              "      if (google.colab.kernel.accessAllowed && google.colab.files && google.colab.files.view) {\n",
              "        for (const element of document.querySelectorAll('.filepath')) {\n",
              "          element.style.display = 'block'\n",
              "          element.onclick = (event) => {\n",
              "            event.preventDefault();\n",
              "            event.stopPropagation();\n",
              "            google.colab.files.view(element.textContent, 80);\n",
              "          };\n",
              "        }\n",
              "      }\n",
              "      for (const element of document.querySelectorAll('.function-repr-contents')) {\n",
              "        element.onclick = (event) => {\n",
              "          event.preventDefault();\n",
              "          event.stopPropagation();\n",
              "          element.classList.toggle('function-repr-contents-collapsed');\n",
              "        };\n",
              "      }\n",
              "      </script>\n",
              "      </div>"
            ]
          },
          "metadata": {},
          "execution_count": 6
        }
      ]
    },
    {
      "cell_type": "code",
      "source": [
        "df.show(5)"
      ],
      "metadata": {
        "colab": {
          "base_uri": "https://localhost:8080/"
        },
        "id": "UH-1ewfHXAPj",
        "outputId": "ad5846e1-0e25-40b1-b871-6665d0d7aa3b"
      },
      "execution_count": 7,
      "outputs": [
        {
          "output_type": "stream",
          "name": "stdout",
          "text": [
            "+------+--------------------+--------+----------------+-----+----------+--------------+\n",
            "|BillNo|            Itemname|Quantity|            Date|Price|CustomerID|       Country|\n",
            "+------+--------------------+--------+----------------+-----+----------+--------------+\n",
            "|536365|WHITE HANGING HEA...|       6|01.12.2010 08:26| 2,55|     17850|United Kingdom|\n",
            "|536365| WHITE METAL LANTERN|       6|01.12.2010 08:26| 3,39|     17850|United Kingdom|\n",
            "|536365|CREAM CUPID HEART...|       8|01.12.2010 08:26| 2,75|     17850|United Kingdom|\n",
            "|536365|KNITTED UNION FLA...|       6|01.12.2010 08:26| 3,39|     17850|United Kingdom|\n",
            "|536365|RED WOOLLY HOTTIE...|       6|01.12.2010 08:26| 3,39|     17850|United Kingdom|\n",
            "+------+--------------------+--------+----------------+-----+----------+--------------+\n",
            "only showing top 5 rows\n",
            "\n"
          ]
        }
      ]
    },
    {
      "cell_type": "code",
      "source": [
        "df.count()"
      ],
      "metadata": {
        "colab": {
          "base_uri": "https://localhost:8080/"
        },
        "id": "eam5_sxlX_pD",
        "outputId": "390d81d5-f593-445f-db1d-f0b804c0d7f1"
      },
      "execution_count": 8,
      "outputs": [
        {
          "output_type": "execute_result",
          "data": {
            "text/plain": [
              "522064"
            ]
          },
          "metadata": {},
          "execution_count": 8
        }
      ]
    },
    {
      "cell_type": "code",
      "source": [
        "df.printSchema()"
      ],
      "metadata": {
        "colab": {
          "base_uri": "https://localhost:8080/"
        },
        "id": "z3MEw6PzePKI",
        "outputId": "d34b1027-508c-4f02-e527-f66866cfc294"
      },
      "execution_count": 9,
      "outputs": [
        {
          "output_type": "stream",
          "name": "stdout",
          "text": [
            "root\n",
            " |-- BillNo: string (nullable = true)\n",
            " |-- Itemname: string (nullable = true)\n",
            " |-- Quantity: integer (nullable = true)\n",
            " |-- Date: string (nullable = true)\n",
            " |-- Price: string (nullable = true)\n",
            " |-- CustomerID: integer (nullable = true)\n",
            " |-- Country: string (nullable = true)\n",
            "\n"
          ]
        }
      ]
    },
    {
      "cell_type": "code",
      "source": [
        "df.columns"
      ],
      "metadata": {
        "colab": {
          "base_uri": "https://localhost:8080/"
        },
        "id": "Ew0FiB1iiVm7",
        "outputId": "544c8185-5b53-4a15-9333-ab70cf6f8143"
      },
      "execution_count": 10,
      "outputs": [
        {
          "output_type": "execute_result",
          "data": {
            "text/plain": [
              "['BillNo', 'Itemname', 'Quantity', 'Date', 'Price', 'CustomerID', 'Country']"
            ]
          },
          "metadata": {},
          "execution_count": 10
        }
      ]
    },
    {
      "cell_type": "code",
      "source": [
        "df.select('CustomerID').distinct().count()"
      ],
      "metadata": {
        "colab": {
          "base_uri": "https://localhost:8080/"
        },
        "id": "ErDdAQV5psTa",
        "outputId": "74d0f104-5f45-41c8-a005-0e1cd6cfe8d4"
      },
      "execution_count": 11,
      "outputs": [
        {
          "output_type": "execute_result",
          "data": {
            "text/plain": [
              "4298"
            ]
          },
          "metadata": {},
          "execution_count": 11
        }
      ]
    },
    {
      "cell_type": "code",
      "source": [
        "df.dtypes"
      ],
      "metadata": {
        "colab": {
          "base_uri": "https://localhost:8080/"
        },
        "id": "10hst_aXjAZ_",
        "outputId": "3a6129a1-2637-4643-9170-d82ba33303b8"
      },
      "execution_count": 12,
      "outputs": [
        {
          "output_type": "execute_result",
          "data": {
            "text/plain": [
              "[('BillNo', 'string'),\n",
              " ('Itemname', 'string'),\n",
              " ('Quantity', 'int'),\n",
              " ('Date', 'string'),\n",
              " ('Price', 'string'),\n",
              " ('CustomerID', 'int'),\n",
              " ('Country', 'string')]"
            ]
          },
          "metadata": {},
          "execution_count": 12
        }
      ]
    },
    {
      "cell_type": "markdown",
      "source": [
        "#### Changing column type"
      ],
      "metadata": {
        "id": "vwNPjskht4BM"
      }
    },
    {
      "cell_type": "code",
      "source": [
        "df = df.withColumn(\"Price\",F.regexp_replace(\"Price\",\",\",\".\"))\n",
        "df = df.withColumn(\"Price\",F.col(\"Price\").cast(\"float\"))"
      ],
      "metadata": {
        "id": "_SKQ9AnUZbV8"
      },
      "execution_count": 13,
      "outputs": []
    },
    {
      "cell_type": "code",
      "source": [
        "df = df.withColumn(\"Quantity\",F.col(\"Quantity\").cast(\"int\"))"
      ],
      "metadata": {
        "id": "5U2AL9vWd-3t"
      },
      "execution_count": 14,
      "outputs": []
    },
    {
      "cell_type": "code",
      "source": [
        "df.printSchema()"
      ],
      "metadata": {
        "colab": {
          "base_uri": "https://localhost:8080/"
        },
        "id": "BcQrdvGLdJbv",
        "outputId": "e676f753-6bd7-4a2d-a099-c79d784c201f"
      },
      "execution_count": 15,
      "outputs": [
        {
          "output_type": "stream",
          "name": "stdout",
          "text": [
            "root\n",
            " |-- BillNo: string (nullable = true)\n",
            " |-- Itemname: string (nullable = true)\n",
            " |-- Quantity: integer (nullable = true)\n",
            " |-- Date: string (nullable = true)\n",
            " |-- Price: float (nullable = true)\n",
            " |-- CustomerID: integer (nullable = true)\n",
            " |-- Country: string (nullable = true)\n",
            "\n"
          ]
        }
      ]
    },
    {
      "cell_type": "markdown",
      "source": [
        "#### Check null values"
      ],
      "metadata": {
        "id": "zN0Oyq-zt-wV"
      }
    },
    {
      "cell_type": "code",
      "source": [
        "df.select([count(when(isnan(c) | col(c).isNull(), c)).alias(c) for c in df.columns]).show()"
      ],
      "metadata": {
        "colab": {
          "base_uri": "https://localhost:8080/"
        },
        "id": "ti2F5GihmalS",
        "outputId": "9a6bfa80-9dfa-4c4f-85cf-3f39975947c5"
      },
      "execution_count": 16,
      "outputs": [
        {
          "output_type": "stream",
          "name": "stdout",
          "text": [
            "+------+--------+--------+----+-----+----------+-------+\n",
            "|BillNo|Itemname|Quantity|Date|Price|CustomerID|Country|\n",
            "+------+--------+--------+----+-----+----------+-------+\n",
            "|     0|    1455|       0|   0|    0|    134041|      0|\n",
            "+------+--------+--------+----+-----+----------+-------+\n",
            "\n"
          ]
        }
      ]
    },
    {
      "cell_type": "markdown",
      "source": [
        "#### Droping the values less than 0 or equal to 0"
      ],
      "metadata": {
        "id": "7_XkX_BGuBrD"
      }
    },
    {
      "cell_type": "code",
      "source": [
        "df = df.filter((F.col(\"Price\")>0) & (F.col(\"Quantity\")>0))"
      ],
      "metadata": {
        "id": "cl8mgp6nsbzI"
      },
      "execution_count": 17,
      "outputs": []
    },
    {
      "cell_type": "markdown",
      "source": [
        "#### Creating new column for 'Total Price'"
      ],
      "metadata": {
        "id": "eGDJNZNYuI3p"
      }
    },
    {
      "cell_type": "code",
      "source": [
        "df = df.withColumn(\"TotalPrice\",F.round(F.col(\"Price\")*F.col(\"Quantity\"),2))"
      ],
      "metadata": {
        "id": "7ETYhWQYshaD"
      },
      "execution_count": 18,
      "outputs": []
    },
    {
      "cell_type": "code",
      "source": [
        "df.show(5)"
      ],
      "metadata": {
        "colab": {
          "base_uri": "https://localhost:8080/"
        },
        "id": "NYi30idjsjc7",
        "outputId": "9c03bd90-1c60-413e-b8b4-3ffa5666d062"
      },
      "execution_count": 19,
      "outputs": [
        {
          "output_type": "stream",
          "name": "stdout",
          "text": [
            "+------+--------------------+--------+----------------+-----+----------+--------------+----------+\n",
            "|BillNo|            Itemname|Quantity|            Date|Price|CustomerID|       Country|TotalPrice|\n",
            "+------+--------------------+--------+----------------+-----+----------+--------------+----------+\n",
            "|536365|WHITE HANGING HEA...|       6|01.12.2010 08:26| 2.55|     17850|United Kingdom|      15.3|\n",
            "|536365| WHITE METAL LANTERN|       6|01.12.2010 08:26| 3.39|     17850|United Kingdom|     20.34|\n",
            "|536365|CREAM CUPID HEART...|       8|01.12.2010 08:26| 2.75|     17850|United Kingdom|      22.0|\n",
            "|536365|KNITTED UNION FLA...|       6|01.12.2010 08:26| 3.39|     17850|United Kingdom|     20.34|\n",
            "|536365|RED WOOLLY HOTTIE...|       6|01.12.2010 08:26| 3.39|     17850|United Kingdom|     20.34|\n",
            "+------+--------------------+--------+----------------+-----+----------+--------------+----------+\n",
            "only showing top 5 rows\n",
            "\n"
          ]
        }
      ]
    },
    {
      "cell_type": "markdown",
      "source": [
        "#### Imputing values"
      ],
      "metadata": {
        "id": "UmuOKy2Ju5X0"
      }
    },
    {
      "cell_type": "code",
      "source": [
        "df = df.na.fill(value=99999,subset=[\"CustomerID\"])"
      ],
      "metadata": {
        "id": "8bHxdKirr_L_"
      },
      "execution_count": 20,
      "outputs": []
    },
    {
      "cell_type": "code",
      "source": [
        "df.select([count(when(isnan(c) | col(c).isNull(), c)).alias(c) for c in df.columns]).show()"
      ],
      "metadata": {
        "colab": {
          "base_uri": "https://localhost:8080/"
        },
        "id": "4SY3ag6Qr_Uu",
        "outputId": "47d79bd7-10a7-4921-d392-ac4f47e6abe2"
      },
      "execution_count": 21,
      "outputs": [
        {
          "output_type": "stream",
          "name": "stdout",
          "text": [
            "+------+--------+--------+----+-----+----------+-------+----------+\n",
            "|BillNo|Itemname|Quantity|Date|Price|CustomerID|Country|TotalPrice|\n",
            "+------+--------+--------+----+-----+----------+-------+----------+\n",
            "|     0|       0|       0|   0|    0|         0|      0|         0|\n",
            "+------+--------+--------+----+-----+----------+-------+----------+\n",
            "\n"
          ]
        }
      ]
    },
    {
      "cell_type": "markdown",
      "source": [
        "#### Removing Non-Items"
      ],
      "metadata": {
        "id": "BhNcRCYCv41q"
      }
    },
    {
      "cell_type": "code",
      "source": [
        "df = df.filter((F.col(\"Itemname\")!='POSTAGE') & (F.col(\"Itemname\")!='DOTCOM POSTAGE') & (F.col(\"Itemname\")!='Adjust bad debt') & (F.col(\"Itemname\")!='Manual'))"
      ],
      "metadata": {
        "id": "udKUHnldvREi"
      },
      "execution_count": 22,
      "outputs": []
    },
    {
      "cell_type": "markdown",
      "source": [
        "#### Changing Column Type (Date)"
      ],
      "metadata": {
        "id": "msR-RkJxx0pB"
      }
    },
    {
      "cell_type": "code",
      "source": [
        "df = df.withColumn(\"Time\",F.split(\"Date\",\" \",0)[1])"
      ],
      "metadata": {
        "id": "JKC7PreKdJek"
      },
      "execution_count": 23,
      "outputs": []
    },
    {
      "cell_type": "code",
      "source": [
        "df = df.withColumn(\"Date\",F.split(\"Date\",\" \",0)[0])\n",
        "df = df.withColumn(\"Date\", to_date(df[\"Date\"], \"dd.MM.yyyy\"))"
      ],
      "metadata": {
        "id": "uL4d1aP83L-J"
      },
      "execution_count": 24,
      "outputs": []
    },
    {
      "cell_type": "markdown",
      "source": [
        "#### Rearranging columns"
      ],
      "metadata": {
        "id": "HYge9sE882E5"
      }
    },
    {
      "cell_type": "code",
      "source": [
        "df = df.select('BillNo', 'Itemname', 'Quantity', 'Price', 'CustomerID', 'Country','Date', 'Time','TotalPrice')\n",
        "df.show(5)"
      ],
      "metadata": {
        "colab": {
          "base_uri": "https://localhost:8080/"
        },
        "id": "id5jicD48hA9",
        "outputId": "5df22a3d-74ca-4588-c3e9-1b653bc43fe7"
      },
      "execution_count": 25,
      "outputs": [
        {
          "output_type": "stream",
          "name": "stdout",
          "text": [
            "+------+--------------------+--------+-----+----------+--------------+----------+-----+----------+\n",
            "|BillNo|            Itemname|Quantity|Price|CustomerID|       Country|      Date| Time|TotalPrice|\n",
            "+------+--------------------+--------+-----+----------+--------------+----------+-----+----------+\n",
            "|536365|WHITE HANGING HEA...|       6| 2.55|     17850|United Kingdom|2010-12-01|08:26|      15.3|\n",
            "|536365| WHITE METAL LANTERN|       6| 3.39|     17850|United Kingdom|2010-12-01|08:26|     20.34|\n",
            "|536365|CREAM CUPID HEART...|       8| 2.75|     17850|United Kingdom|2010-12-01|08:26|      22.0|\n",
            "|536365|KNITTED UNION FLA...|       6| 3.39|     17850|United Kingdom|2010-12-01|08:26|     20.34|\n",
            "|536365|RED WOOLLY HOTTIE...|       6| 3.39|     17850|United Kingdom|2010-12-01|08:26|     20.34|\n",
            "+------+--------------------+--------+-----+----------+--------------+----------+-----+----------+\n",
            "only showing top 5 rows\n",
            "\n"
          ]
        }
      ]
    },
    {
      "cell_type": "markdown",
      "source": [
        "## EDA"
      ],
      "metadata": {
        "id": "HktjGOKoAmvS"
      }
    },
    {
      "cell_type": "code",
      "source": [
        "df.createOrReplaceTempView(\"df\")"
      ],
      "metadata": {
        "id": "fQeJNMIjDFqG"
      },
      "execution_count": 26,
      "outputs": []
    },
    {
      "cell_type": "code",
      "source": [
        "total_price_by_country = sqlCtx.sql(\"\"\"SELECT Country, ROUND(SUM(TotalPrice), 2) AS Price FROM df GROUP BY Country\"\"\")\n",
        "total_price_by_country.orderBy('Price', ascending=False).show(10)"
      ],
      "metadata": {
        "colab": {
          "base_uri": "https://localhost:8080/"
        },
        "id": "kqe8gJd4Flps",
        "outputId": "efde68af-845b-4d81-9896-f1a6d6e0db6f"
      },
      "execution_count": 27,
      "outputs": [
        {
          "output_type": "stream",
          "name": "stdout",
          "text": [
            "+--------------+----------+\n",
            "|       Country|     Price|\n",
            "+--------------+----------+\n",
            "|United Kingdom|8763711.59|\n",
            "|   Netherlands| 283889.34|\n",
            "|       Germany| 205569.89|\n",
            "|        France| 184768.74|\n",
            "|     Australia| 138171.31|\n",
            "|         Spain|  55725.11|\n",
            "|   Switzerland|   53087.9|\n",
            "|         Japan|  37416.37|\n",
            "|       Belgium|  36927.34|\n",
            "|        Sweden|  36839.33|\n",
            "+--------------+----------+\n",
            "only showing top 10 rows\n",
            "\n"
          ]
        }
      ]
    },
    {
      "cell_type": "code",
      "source": [
        "top_product_country = sqlCtx.sql(\"\"\"SELECT Country, Itemname, Quantity FROM\n",
        "    (SELECT Country, Itemname, Quantity, MAX(Quantity) OVER(PARTITION BY Country) AS Max_Quant FROM df)\n",
        "    WHERE Quantity=MAX_QUANT\n",
        "    \"\"\")\n",
        "top_product_country.orderBy('Quantity', ascending=False).show(20, truncate=False)"
      ],
      "metadata": {
        "colab": {
          "base_uri": "https://localhost:8080/"
        },
        "id": "6Bj_RWBLHYO3",
        "outputId": "3601b7a0-de1b-4919-8540-34b03b793803"
      },
      "execution_count": 28,
      "outputs": [
        {
          "output_type": "stream",
          "name": "stdout",
          "text": [
            "+--------------+-----------------------------------+--------+\n",
            "|Country       |Itemname                           |Quantity|\n",
            "+--------------+-----------------------------------+--------+\n",
            "|United Kingdom|PAPER CRAFT , LITTLE BIRDIE        |80995   |\n",
            "|Netherlands   |RABBIT NIGHT LIGHT                 |2400    |\n",
            "|Japan         |RABBIT NIGHT LIGHT                 |2040    |\n",
            "|Australia     |MINI PAINT SET VINTAGE             |1152    |\n",
            "|France        |RABBIT NIGHT LIGHT                 |912     |\n",
            "|Sweden        |12 PENCILS SMALL TUBE RED RETROSPOT|768     |\n",
            "|Germany       |ASSORTED COLOURS SILK FAN          |600     |\n",
            "|Spain         |PINK 3 PIECE POLKADOT CUTLERY SET  |360     |\n",
            "|Spain         |BLUE 3 PIECE POLKADOT CUTLERY SET  |360     |\n",
            "|Spain         |CHILDRENS CUTLERY POLKADOT PINK    |360     |\n",
            "|Spain         |CHILDRENS CUTLERY POLKADOT BLUE    |360     |\n",
            "|Spain         |CHILDRENS CUTLERY POLKADOT PINK    |360     |\n",
            "|Austria       |SET 12 KIDS COLOUR  CHALK STICKS   |288     |\n",
            "|Switzerland   |GIRLS ALPHABET IRON ON PATCHES     |288     |\n",
            "|Singapore     |CHRISTMAS TREE PAINTED ZINC        |288     |\n",
            "|Belgium       |FAIRY CAKES NOTEBOOK A7 SIZE       |272     |\n",
            "|Norway        |SMALL FOLDING SCISSOR(POINTED EDGE)|240     |\n",
            "|Iceland       |ICE CREAM SUNDAE LIP GLOSS         |240     |\n",
            "|Norway        |SMALL FOLDING SCISSOR(POINTED EDGE)|240     |\n",
            "|Italy         |ICE CREAM BUBBLES                  |200     |\n",
            "+--------------+-----------------------------------+--------+\n",
            "only showing top 20 rows\n",
            "\n"
          ]
        }
      ]
    },
    {
      "cell_type": "code",
      "source": [
        "expense_per_customer = sqlCtx.sql(\"\"\"SELECT CustomerID, Country, SUM(TotalPrice) as Price FROM df WHERE CustomerID <> 99999 GROUP BY CustomerID, Country\"\"\")\n",
        "expense_per_customer.orderBy('Price', ascending=False).show(10)"
      ],
      "metadata": {
        "colab": {
          "base_uri": "https://localhost:8080/"
        },
        "id": "DHf1DOflDWf0",
        "outputId": "669f5314-b209-445d-ff3d-742584469a4d"
      },
      "execution_count": 29,
      "outputs": [
        {
          "output_type": "stream",
          "name": "stdout",
          "text": [
            "+----------+--------------+------------------+\n",
            "|CustomerID|       Country|             Price|\n",
            "+----------+--------------+------------------+\n",
            "|     14646|   Netherlands| 279138.0201046169|\n",
            "|     18102|United Kingdom|259657.30027222633|\n",
            "|     17450|United Kingdom|194550.79052352905|\n",
            "|     16446|United Kingdom|168472.49374997616|\n",
            "|     12415|     Australia|124564.53000074625|\n",
            "|     17511|United Kingdom| 91062.38004624844|\n",
            "|     12346|United Kingdom|       77183.59375|\n",
            "|     16029|United Kingdom| 72882.09001159668|\n",
            "|     16684|United Kingdom| 66653.56011009216|\n",
            "|     13694|United Kingdom| 65039.61996245384|\n",
            "+----------+--------------+------------------+\n",
            "only showing top 10 rows\n",
            "\n"
          ]
        }
      ]
    },
    {
      "cell_type": "code",
      "source": [
        "monthly_data = df.groupBy(F.month(\"Date\").alias(\"Month\")) \\\n",
        "    .agg(F.sum(\"Quantity\").alias(\"TotalQuantity\"), F.sum(\"TotalPrice\").alias(\"TotalPrice\")) \\\n",
        "    .orderBy(\"Month\")\n",
        "\n",
        "pandas_df = monthly_data.toPandas()\n",
        "\n",
        "fig, ax1 = plt.subplots(figsize=(8, 4))\n",
        "\n",
        "ax1.bar(pandas_df.index, pandas_df['TotalQuantity'], color='b', alpha=0.7, label='Quantity')\n",
        "ax1.set_ylabel('Quantity', color='b')\n",
        "ax1.tick_params('y', colors='b')\n",
        "\n",
        "ax2 = ax1.twinx()\n",
        "ax2.plot(pandas_df.index, pandas_df['TotalPrice'], color='r', marker='o', label='Total Price')\n",
        "ax2.set_ylabel('Total Price', color='r')\n",
        "ax2.tick_params('y', colors='r')\n",
        "\n",
        "ax1.set_xticks(pandas_df.index)\n",
        "ax1.set_xticklabels([month for month in pandas_df['Month']], rotation=45)\n",
        "\n",
        "plt.title('Month-wise Distribution of Quantity & Total Price')\n",
        "fig.tight_layout()\n",
        "\n",
        "plt.show()"
      ],
      "metadata": {
        "colab": {
          "base_uri": "https://localhost:8080/",
          "height": 407
        },
        "id": "E0DY9cGmApLa",
        "outputId": "89694961-dc8f-444c-fd8b-c0896d73ab1d"
      },
      "execution_count": 30,
      "outputs": [
        {
          "output_type": "display_data",
          "data": {
            "text/plain": [
              "<Figure size 800x400 with 2 Axes>"
            ],
            "image/png": "[encoded data removed]"
          },
          "metadata": {}
        }
      ]
    },
    {
      "cell_type": "code",
      "source": [
        "# No_Of_Trans per month\n",
        "transactions_per_month = df.groupBy(F.month(\"Date\").alias(\"Month\")) \\\n",
        "    .agg(F.count(\"BillNo\").alias(\"No_Of_Trans\"))\n",
        "\n",
        "transactions_per_month_pd = transactions_per_month.toPandas()\n",
        "plt.figure(figsize=(8, 4))\n",
        "plt.bar(transactions_per_month_pd[\"Month\"], transactions_per_month_pd[\"No_Of_Trans\"])\n",
        "plt.title(\"Number of Transactions per Month\")\n",
        "plt.xlabel(\"Month\")\n",
        "plt.ylabel(\"Number of Transactions\")\n",
        "plt.xticks(transactions_per_month_pd[\"Month\"], transactions_per_month_pd[\"Month\"], rotation=45)\n",
        "plt.show()"
      ],
      "metadata": {
        "colab": {
          "base_uri": "https://localhost:8080/",
          "height": 419
        },
        "id": "jlKDQM6eApZi",
        "outputId": "d8fbd729-6dec-446f-cda2-9e831a623251"
      },
      "execution_count": 31,
      "outputs": [
        {
          "output_type": "display_data",
          "data": {
            "text/plain": [
              "<Figure size 800x400 with 1 Axes>"
            ],
            "image/png": "[encoded data removed]"
          },
          "metadata": {}
        }
      ]
    },
    {
      "cell_type": "code",
      "source": [
        "df = df.withColumn(\"Month\", F.month(\"Date\"))\n",
        "\n",
        "unit_per_transaction = df.groupBy(\"Month\").agg((F.sum(\"Quantity\") / F.countDistinct(\"BillNo\")).alias(\"Unit_Per_Transaction\"))\n",
        "avg_transaction_value = df.groupBy(\"Month\").agg((F.sum(\"TotalPrice\") / F.countDistinct(\"BillNo\")).alias(\"Avg_Transaction_Value\"))\n",
        "avg_selling_price = df.groupBy(\"Month\").agg((F.sum(\"TotalPrice\") / F.sum(\"Quantity\")).alias(\"Avg_Selling_Price\"))\n",
        "no_of_trans = df.groupBy(\"Month\").agg(F.countDistinct(\"BillNo\").alias(\"No_Of_Trans\"))\n",
        "\n",
        "unit_per_transaction_pd = unit_per_transaction.toPandas()\n",
        "avg_transaction_value_pd = avg_transaction_value.toPandas()\n",
        "avg_selling_price_pd = avg_selling_price.toPandas()\n",
        "no_of_trans_pd = no_of_trans.toPandas()"
      ],
      "metadata": {
        "id": "4EXVfi74OIDY"
      },
      "execution_count": 32,
      "outputs": []
    },
    {
      "cell_type": "code",
      "source": [
        "# Unit Per Transaction by month\n",
        "plt.figure(figsize=(6, 3))\n",
        "plt.bar(unit_per_transaction_pd[\"Month\"], unit_per_transaction_pd[\"Unit_Per_Transaction\"])\n",
        "plt.xlabel(\"Month\")\n",
        "plt.ylabel(\"Unit Per Transaction\")\n",
        "plt.title(\"Unit Per Transaction by Month\")\n",
        "plt.show()"
      ],
      "metadata": {
        "colab": {
          "base_uri": "https://localhost:8080/",
          "height": 333
        },
        "id": "FNBcGWBuOIGL",
        "outputId": "1a951213-abbc-43e2-a179-8353ce48d3bf"
      },
      "execution_count": 33,
      "outputs": [
        {
          "output_type": "display_data",
          "data": {
            "text/plain": [
              "<Figure size 600x300 with 1 Axes>"
            ],
            "image/png": "[encoded data removed]"
          },
          "metadata": {}
        }
      ]
    },
    {
      "cell_type": "code",
      "source": [
        "# Average Transaction Value by month\n",
        "plt.figure(figsize=(6, 3))\n",
        "plt.bar(avg_transaction_value_pd[\"Month\"], avg_transaction_value_pd[\"Avg_Transaction_Value\"])\n",
        "plt.xlabel(\"Month\")\n",
        "plt.ylabel(\"Average Transaction Value\")\n",
        "plt.title(\"Average Transaction Value by Month\")\n",
        "plt.show()"
      ],
      "metadata": {
        "colab": {
          "base_uri": "https://localhost:8080/",
          "height": 333
        },
        "id": "M2PzQa2IOIJD",
        "outputId": "d257ee4f-fa70-43ee-8432-1d1bdaa77814"
      },
      "execution_count": 34,
      "outputs": [
        {
          "output_type": "display_data",
          "data": {
            "text/plain": [
              "<Figure size 600x300 with 1 Axes>"
            ],
            "image/png": "[encoded data removed]"
          },
          "metadata": {}
        }
      ]
    },
    {
      "cell_type": "code",
      "source": [
        "# Average Selling Price by month\n",
        "plt.figure(figsize=(6, 3))\n",
        "plt.bar(avg_selling_price_pd[\"Month\"], avg_selling_price_pd[\"Avg_Selling_Price\"])\n",
        "plt.xlabel(\"Month\")\n",
        "plt.ylabel(\"Average Selling Price\")\n",
        "plt.title(\"Average Selling Price by Month\")\n",
        "plt.show()"
      ],
      "metadata": {
        "colab": {
          "base_uri": "https://localhost:8080/",
          "height": 333
        },
        "id": "PkwfjNrIOIL_",
        "outputId": "f9b864cf-e3e9-45d9-a733-bcae6812da9f"
      },
      "execution_count": 35,
      "outputs": [
        {
          "output_type": "display_data",
          "data": {
            "text/plain": [
              "<Figure size 600x300 with 1 Axes>"
            ],
            "image/png": "[encoded data removed]"
          },
          "metadata": {}
        }
      ]
    },
    {
      "cell_type": "code",
      "source": [
        "# No_Of_Trans by month\n",
        "plt.figure(figsize=(6, 3))\n",
        "plt.bar(no_of_trans_pd[\"Month\"], no_of_trans_pd[\"No_Of_Trans\"])\n",
        "plt.xlabel(\"Month\")\n",
        "plt.ylabel(\"Number of Transactions\")\n",
        "plt.title(\"Number of Transactions by Month\")\n",
        "plt.show()"
      ],
      "metadata": {
        "colab": {
          "base_uri": "https://localhost:8080/",
          "height": 333
        },
        "id": "t-SV8quPApcr",
        "outputId": "ca1d997b-4df5-4bc9-d5f9-807440aa0b21"
      },
      "execution_count": 36,
      "outputs": [
        {
          "output_type": "display_data",
          "data": {
            "text/plain": [
              "<Figure size 600x300 with 1 Axes>"
            ],
            "image/png": "[encoded data removed]"
          },
          "metadata": {}
        }
      ]
    },
    {
      "cell_type": "code",
      "source": [
        "df = df.withColumn(\"DayOfWeek\", F.date_format(\"Date\", \"EEEE\"))\n",
        "total_sales_per_day = df.groupBy(\"DayOfWeek\").agg(F.sum(\"TotalPrice\").alias(\"TotalSales\"))\n",
        "total_sales_per_day_pd = total_sales_per_day.toPandas()\n",
        "\n",
        "# Total Sales per day in the week\n",
        "plt.figure(figsize=(6, 3))\n",
        "plt.bar(total_sales_per_day_pd[\"DayOfWeek\"], total_sales_per_day_pd[\"TotalSales\"])\n",
        "plt.xlabel(\"Day of the Week\")\n",
        "plt.ylabel(\"Total Sales\")\n",
        "plt.title(\"Total Sales per day in the week\")\n",
        "plt.xticks(rotation=45)\n",
        "plt.show()"
      ],
      "metadata": {
        "colab": {
          "base_uri": "https://localhost:8080/",
          "height": 386
        },
        "id": "bOKb5-5ANEMk",
        "outputId": "0b5d334d-cf73-4b63-fcde-558d48d23375"
      },
      "execution_count": 37,
      "outputs": [
        {
          "output_type": "display_data",
          "data": {
            "text/plain": [
              "<Figure size 600x300 with 1 Axes>"
            ],
            "image/png": "[encoded data removed]"
          },
          "metadata": {}
        }
      ]
    },
    {
      "cell_type": "markdown",
      "source": [
        "## Association Rule"
      ],
      "metadata": {
        "id": "K1Gq9OuR853R"
      }
    },
    {
      "cell_type": "code",
      "source": [
        "indexer = StringIndexer(inputCol=\"Itemname\", outputCol=\"ItemnameIndex\")\n",
        "\n",
        "df_group = indexer.fit(df).transform(df)\n",
        "\n",
        "df_group = df_group[['Country', 'BillNo', 'Itemname']].distinct()\n",
        "\n",
        "df_group = df_group.groupBy('BillNo', 'Country').agg(collect_list('Itemname').alias('Itemname_vec'))\n",
        "\n",
        "df_group.show()"
      ],
      "metadata": {
        "colab": {
          "base_uri": "https://localhost:8080/"
        },
        "id": "8kHFp1gI85B9",
        "outputId": "61fa1400-7b73-4034-d4d2-022a67ed7855"
      },
      "execution_count": 38,
      "outputs": [
        {
          "output_type": "stream",
          "name": "stdout",
          "text": [
            "+------+--------------+--------------------+\n",
            "|BillNo|       Country|        Itemname_vec|\n",
            "+------+--------------+--------------------+\n",
            "|536365|United Kingdom|[GLASS STAR FROST...|\n",
            "|536368|United Kingdom|[RED COAT RACK PA...|\n",
            "|536369|United Kingdom|[BATH BUILDING BL...|\n",
            "|536371|United Kingdom|[PAPER CHAIN KIT ...|\n",
            "|536372|United Kingdom|[HAND WARMER UNIO...|\n",
            "|536373|United Kingdom|[KNITTED UNION FL...|\n",
            "|536375|United Kingdom|[EDWARDIAN PARASO...|\n",
            "|536380|United Kingdom|[JAM MAKING SET P...|\n",
            "|536381|United Kingdom|[CERAMIC CHERRY C...|\n",
            "|536387|United Kingdom|[RED TOADSTOOL LE...|\n",
            "|536388|United Kingdom|[HEART OF WICKER ...|\n",
            "|536393|United Kingdom|    [RETROSPOT LAMP]|\n",
            "|536394|United Kingdom|[FANCY FONT BIRTH...|\n",
            "|536395|United Kingdom|[BLACK HEART CARD...|\n",
            "|536398|United Kingdom|[CHOCOLATE HOT WA...|\n",
            "|536402|United Kingdom|[HOT WATER BOTTLE...|\n",
            "|536404|United Kingdom|[PACK OF 72 RETRO...|\n",
            "|536405|United Kingdom|[SET/5 RED RETROS...|\n",
            "|536407|United Kingdom|[HAND WARMER UNIO...|\n",
            "|536409|United Kingdom|[UNION JACK FLAG ...|\n",
            "+------+--------------+--------------------+\n",
            "only showing top 20 rows\n",
            "\n"
          ]
        }
      ]
    },
    {
      "cell_type": "code",
      "source": [
        "countries = []\n",
        "for country in df[['Country']].distinct().collect():\n",
        "    countries.append(country['Country'])"
      ],
      "metadata": {
        "id": "f3pav9vF89Z8"
      },
      "execution_count": 39,
      "outputs": []
    },
    {
      "cell_type": "code",
      "source": [
        "minSupport=0.1\n",
        "minConfidence=0.8\n",
        "results = {}\n",
        "\n",
        "countries = ['Belgium', 'Germany', 'Italy', 'Netherlands', 'Portugal', 'Norway', 'Spain', 'Sweden', 'Australia' ]\n",
        "\n",
        "for country in countries:\n",
        "    fpGrowth = FPGrowth(itemsCol=\"Itemname_vec\", minSupport=minSupport, minConfidence=minConfidence)\n",
        "    model = fpGrowth.fit(df_group.filter(df_group['Country']==country))\n",
        "    results[country] = model.associationRules"
      ],
      "metadata": {
        "id": "URI_ka2l89ce"
      },
      "execution_count": 40,
      "outputs": []
    },
    {
      "cell_type": "code",
      "source": [
        "country = countries[0]\n",
        "apriori = results[country].withColumn('country', lit(country))\n",
        "\n",
        "for country in countries[1:5]:\n",
        "    df_temp = results[country].withColumn('country', lit(country))\n",
        "    apriori =  apriori.union(df_temp)"
      ],
      "metadata": {
        "id": "bIIUitvD89fQ"
      },
      "execution_count": 41,
      "outputs": []
    },
    {
      "cell_type": "code",
      "source": [
        "apriori.createOrReplaceTempView(\"apriori\")\n",
        "rules = sqlCtx.sql(\"\"\"SELECT antecedent, consequent, COUNT(DISTINCT country) as n_country , ROUND(AVG(lift), 3) as mean_lift, ROUND(MIN(lift), 3) as min_lift FROM apriori GROUP BY antecedent, consequent\"\"\")\n",
        "rules.sort(col('n_country').desc(), col('mean_lift').desc()).show(10, truncate=False)"
      ],
      "metadata": {
        "colab": {
          "base_uri": "https://localhost:8080/"
        },
        "id": "JXssCDEs-eHa",
        "outputId": "67138b4f-28e6-4f61-8644-96efa5089c17"
      },
      "execution_count": 42,
      "outputs": [
        {
          "output_type": "stream",
          "name": "stdout",
          "text": [
            "+----------------------------------------------------------------+-------------------------------------+---------+---------+--------+\n",
            "|antecedent                                                      |consequent                           |n_country|mean_lift|min_lift|\n",
            "+----------------------------------------------------------------+-------------------------------------+---------+---------+--------+\n",
            "|[ROUND SNACK BOXES SET OF 4 FRUITS]                             |[ROUND SNACK BOXES SET OF4 WOODLAND] |3        |2.896    |2.11    |\n",
            "|[PLASTERS IN TIN CIRCUS PARADE]                                 |[PLASTERS IN TIN WOODLAND ANIMALS]   |2        |5.595    |5.357   |\n",
            "|[SET OF 20 KIDS COOKIE CUTTERS, RETROSPOT TEA SET CERAMIC 11 PC]|[GINGERBREAD MAN COOKIE CUTTER]      |1        |8.75     |8.75    |\n",
            "|[LUNCH BAG CARS BLUE]                                           |[LUNCH BAG WOODLAND]                 |1        |8.75     |8.75    |\n",
            "|[LUNCH BAG WOODLAND]                                            |[LUNCH BAG CARS BLUE]                |1        |8.75     |8.75    |\n",
            "|[SET OF 20 KIDS COOKIE CUTTERS]                                 |[GINGERBREAD MAN COOKIE CUTTER]      |1        |7.0      |7.0     |\n",
            "|[DOORMAT UNION FLAG, DOORMAT WELCOME TO OUR HOME]               |[DOORMAT AIRMAIL]                    |1        |7.0      |7.0     |\n",
            "|[VINTAGE CREAM DOG FOOD CONTAINER]                              |[SET OF TEA COFFEE SUGAR TINS PANTRY]|1        |7.0      |7.0     |\n",
            "|[TOY TIDY PINK POLKADOT]                                        |[TOY TIDY SPACEBOY]                  |1        |7.0      |7.0     |\n",
            "|[TOY TIDY SPACEBOY, CHILDRENS APRON APPLES DESIGN]              |[TOY TIDY PINK POLKADOT]             |1        |7.0      |7.0     |\n",
            "+----------------------------------------------------------------+-------------------------------------+---------+---------+--------+\n",
            "only showing top 10 rows\n",
            "\n"
          ]
        }
      ]
    },
    {
      "cell_type": "code",
      "source": [
        "minSupport=0.02\n",
        "minConfidence=0.4\n",
        "\n",
        "fpGrowth = FPGrowth(itemsCol=\"Itemname_vec\", minSupport=minSupport, minConfidence=minConfidence)\n",
        "model = fpGrowth.fit(df_group)\n",
        "results = model.associationRules\n",
        "results.show(10)"
      ],
      "metadata": {
        "colab": {
          "base_uri": "https://localhost:8080/"
        },
        "id": "7p3035bH-eKE",
        "outputId": "ba2d83f5-e6ee-4c25-d12f-fd24ea3e9a6d"
      },
      "execution_count": 45,
      "outputs": [
        {
          "output_type": "stream",
          "name": "stdout",
          "text": [
            "+--------------------+--------------------+-------------------+------------------+--------------------+\n",
            "|          antecedent|          consequent|         confidence|              lift|             support|\n",
            "+--------------------+--------------------+-------------------+------------------+--------------------+\n",
            "|[LUNCH BAG PINK P...|[LUNCH BAG  BLACK...|0.49860205032618826| 7.676888711371469|0.027577319587628865|\n",
            "|[LUNCH BAG PINK P...|[LUNCH BAG RED RE...| 0.5526561043802423|6.9575135788297855| 0.03056701030927835|\n",
            "|[LUNCH BAG PINK P...|[LUNCH BAG CARS B...|0.46225535880708296| 7.922044135033047| 0.02556701030927835|\n",
            "|[PINK REGENCY TEA...|[ROSES REGENCY TE...| 0.8509933774834437|16.313509410255737| 0.02649484536082474|\n",
            "|[SET OF 6 SPICE T...|[SET OF 3 CAKE TI...| 0.4944649446494465| 7.126760717830061|0.020721649484536083|\n",
            "|[JUMBO STORAGE BA...|[JUMBO BAG PINK P...| 0.4363327674023769| 6.989971666066154| 0.02649484536082474|\n",
            "|[JUMBO STORAGE BA...|[JUMBO BAG RED RE...| 0.6120543293718166|5.7612100872456296|0.037164948453608244|\n",
            "|[JUMBO STORAGE BA...|[JUMBO SHOPPER VI...|0.44142614601018676|7.3444830468247195|0.026804123711340205|\n",
            "|   [JUMBO BAG PEARS]|  [JUMBO BAG APPLES]| 0.6843003412969283|13.771189441037768|0.020670103092783505|\n",
            "|[JUMBO  BAG BAROQ...|[JUMBO SHOPPER VI...| 0.4540540540540541|7.5545871772286874|0.021649484536082474|\n",
            "+--------------------+--------------------+-------------------+------------------+--------------------+\n",
            "only showing top 10 rows\n",
            "\n"
          ]
        }
      ]
    },
    {
      "cell_type": "code",
      "source": [
        "for column in ['confidence', 'lift', 'support']:\n",
        "    results = results.withColumn(column, round(results[column], 3))\n",
        "\n",
        "results.sort(col('lift').desc()).show(10, truncate=False)"
      ],
      "metadata": {
        "colab": {
          "base_uri": "https://localhost:8080/"
        },
        "id": "ND7BwwnM-kSw",
        "outputId": "2b2a211e-3e7b-4825-da13-bedc0dbaaf6f"
      },
      "execution_count": 46,
      "outputs": [
        {
          "output_type": "stream",
          "name": "stdout",
          "text": [
            "+------------------------------------------------------------------+-----------------------------------+----------+------+-------+\n",
            "|antecedent                                                        |consequent                         |confidence|lift  |support|\n",
            "+------------------------------------------------------------------+-----------------------------------+----------+------+-------+\n",
            "|[GREEN REGENCY TEACUP AND SAUCER, ROSES REGENCY TEACUP AND SAUCER]|[PINK REGENCY TEACUP AND SAUCER]   |0.704     |18.585|0.026  |\n",
            "|[PINK REGENCY TEACUP AND SAUCER, ROSES REGENCY TEACUP AND SAUCER] |[GREEN REGENCY TEACUP AND SAUCER]  |0.903     |18.011|0.026  |\n",
            "|[PINK REGENCY TEACUP AND SAUCER]                                  |[GREEN REGENCY TEACUP AND SAUCER]  |0.822     |16.385|0.031  |\n",
            "|[GREEN REGENCY TEACUP AND SAUCER]                                 |[PINK REGENCY TEACUP AND SAUCER]   |0.621     |16.385|0.031  |\n",
            "|[PINK REGENCY TEACUP AND SAUCER, GREEN REGENCY TEACUP AND SAUCER] |[ROSES REGENCY TEACUP AND SAUCER]  |0.851     |16.314|0.026  |\n",
            "|[GARDENERS KNEELING PAD CUP OF TEA]                               |[GARDENERS KNEELING PAD KEEP CALM] |0.721     |15.466|0.028  |\n",
            "|[GARDENERS KNEELING PAD KEEP CALM]                                |[GARDENERS KNEELING PAD CUP OF TEA]|0.601     |15.466|0.028  |\n",
            "|[PINK REGENCY TEACUP AND SAUCER]                                  |[ROSES REGENCY TEACUP AND SAUCER]  |0.774     |14.84 |0.029  |\n",
            "|[ROSES REGENCY TEACUP AND SAUCER]                                 |[PINK REGENCY TEACUP AND SAUCER]   |0.562     |14.84 |0.029  |\n",
            "|[GREEN REGENCY TEACUP AND SAUCER]                                 |[ROSES REGENCY TEACUP AND SAUCER]  |0.75      |14.382|0.038  |\n",
            "+------------------------------------------------------------------+-----------------------------------+----------+------+-------+\n",
            "only showing top 10 rows\n",
            "\n"
          ]
        }
      ]
    }
  ]
}